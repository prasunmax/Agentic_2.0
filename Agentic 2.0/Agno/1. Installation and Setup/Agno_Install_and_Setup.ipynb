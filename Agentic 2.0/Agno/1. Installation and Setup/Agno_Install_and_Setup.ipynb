{
 "cells": [
  {
   "cell_type": "markdown",
   "id": "6c2163f7",
   "metadata": {},
   "source": [
    "\n",
    "# Agno — Install & Setup (Student Copy)\n",
    "\n",
    "A clear, step-by-step setup with OS-specific commands, diagrams, and verification cells.\n"
   ]
  },
  {
   "cell_type": "markdown",
   "id": "d2eb8eec",
   "metadata": {},
   "source": [
    "\n",
    "## Why use a virtual environment?\n",
    "\n",
    "- Keep dependencies isolated per project.  \n",
    "- Avoid version conflicts across different courses/projects.  \n",
    "- Make onboarding/teaching predictable.\n",
    "\n",
    "```mermaid\n",
    "flowchart LR\n",
    "  A[Python 3.x] --> B[Create venv]\n",
    "  B --> C[Activate venv]\n",
    "  C --> D[pip install -U agno]\n",
    "  D --> E[Verify import]\n",
    "```\n"
   ]
  },
  {
   "cell_type": "markdown",
   "id": "a0d3e2fa",
   "metadata": {},
   "source": [
    "\n",
    "## Step 1 — Create & Activate a Virtual Environment\n",
    "\n",
    "### macOS / Linux\n",
    "```bash\n",
    "python3 -m venv ~/.venvs/agno\n",
    "source ~/.venvs/agno/bin/activate\n",
    "```\n",
    "\n",
    "### Windows (PowerShell)\n",
    "```powershell\n",
    "python3 -m venv agnoenv\n",
    ".\u0007gnoenv\\Scripts\\Activate.ps1\n",
    "```\n",
    "> If PowerShell blocks activation, run PowerShell as Administrator and execute:  \n",
    "> `Set-ExecutionPolicy -ExecutionPolicy RemoteSigned -Scope CurrentUser`\n"
   ]
  },
  {
   "cell_type": "markdown",
   "id": "e6066f29",
   "metadata": {},
   "source": [
    "\n",
    "## Step 2 — Install the `agno` SDK\n",
    "\n",
    "### macOS / Linux / Windows\n",
    "```bash\n",
    "pip install -U agno\n",
    "```\n",
    "> If you encounter errors, try updating pip first:\n",
    "```bash\n",
    "python -m pip install --upgrade pip\n",
    "```\n"
   ]
  },
  {
   "cell_type": "markdown",
   "id": "bce0eb6a",
   "metadata": {},
   "source": [
    "\n",
    "## Step 3 — (Optional) Upgrade `agno` later\n",
    "```bash\n",
    "pip install -U agno --no-cache-dir\n",
    "```\n"
   ]
  },
  {
   "cell_type": "markdown",
   "id": "7b7a6d1d",
   "metadata": {},
   "source": [
    "\n",
    "## Sanity Check — Verify Installation\n",
    "\n",
    "Run the Python cell below. It prints the installed version and performs a minimal import.\n"
   ]
  },
  {
   "cell_type": "code",
   "execution_count": null,
   "id": "8006b553",
   "metadata": {},
   "outputs": [],
   "source": [
    "# Safe to run after installing `agno` in your active environment.\n",
    "try:\n",
    "    import importlib.metadata as ilm\n",
    "    version = ilm.version(\"agno\")\n",
    "except Exception as e:\n",
    "    version = f\"Could not detect 'agno' via importlib.metadata: {e}\"\n",
    "\n",
    "print(\"Agno version:\", version)\n",
    "\n",
    "# Minimal import test\n",
    "try:\n",
    "    from agno.agent import Agent  # noqa: F401\n",
    "    print(\"Import test: OK (agno.agent.Agent available)\")\n",
    "except Exception as e:\n",
    "    print(\"Import test failed:\", e)"
   ]
  },
  {
   "cell_type": "markdown",
   "id": "0ab25c20",
   "metadata": {},
   "source": [
    "\n",
    "## (Optional) First Run — Ultra‑Minimal Agent (reference)\n",
    "\n",
    "> Run only if you have a model provider configured (e.g., OpenAI key) and the extra packages installed.\n",
    "\n",
    "```python\n",
    "from agno.agent import Agent\n",
    "from agno.models.openai import OpenAIChat  # pip install openai\n",
    "\n",
    "agent = Agent(\n",
    "    name=\"HelloAgent\",\n",
    "    model=OpenAIChat(id=\"gpt-3.5-turbo\"),\n",
    "    instructions=\"Answer concisely.\",\n",
    ")\n",
    "\n",
    "print(agent.run(\"Say hello in one sentence.\"))\n",
    "```\n"
   ]
  },
  {
   "cell_type": "markdown",
   "id": "b058d913",
   "metadata": {},
   "source": [
    "\n",
    "## Common Issues & Quick Fixes\n",
    "\n",
    "| Symptom | Likely Cause | Fix |\n",
    "|---|---|---|\n",
    "| `ModuleNotFoundError: agno` | venv not activated | Activate venv, then `pip install -U agno` |\n",
    "| SSL / pip errors | Outdated pip / certs | `python -m pip install --upgrade pip` |\n",
    "| Model import errors (e.g., OpenAI) | Missing provider SDK | `pip install openai` (or relevant SDK) |\n",
    "| Permission error on Windows activation | Execution policy | Use **PowerShell (Admin)** and run `Set-ExecutionPolicy RemoteSigned -Scope CurrentUser` |\n"
   ]
  },
  {
   "cell_type": "markdown",
   "id": "c7b7d14f",
   "metadata": {},
   "source": [
    "\n",
    "## Deactivate / Remove the Environment\n",
    "\n",
    "- Deactivate:  \n",
    "```bash\n",
    "deactivate\n",
    "```\n",
    "- Remove (delete the folder):  \n",
    "  - macOS/Linux: `rm -rf ~/.venvs/agno`  \n",
    "  - Windows: delete the `agnoenv` directory\n"
   ]
  }
 ],
 "metadata": {
  "language_info": {
   "name": "python",
   "pygments_lexer": "ipython3"
  }
 },
 "nbformat": 4,
 "nbformat_minor": 5
}
