{
 "cells": [
  {
   "cell_type": "markdown",
   "id": "63dc1496",
   "metadata": {},
   "source": [
    "\n",
    "# Agno Workflows — Executive, Visual Guide (Mermaid-first)\n",
    "\n",
    "**Goal:** a concise, visual, production-focused notebook on Agno **Workflows** — what they are, why they matter, and how to use them with **deterministic** control.  \n",
    "Diagrams are in **Mermaid**, with minimal code only where useful.\n"
   ]
  },
  {
   "cell_type": "markdown",
   "id": "6f6d4242",
   "metadata": {},
   "source": [
    "\n",
    "## 1) What are Workflows?\n",
    "\n",
    "Workflows orchestrate **Agents**, **Teams**, and **Functions** through an explicit series of **Steps**.  \n",
    "Unlike free chat-style coordination, workflows run in a **predictable order** with **defined I/O**, making them ideal for production automation.\n",
    "\n",
    "### High-level Flow\n",
    "```mermaid\n",
    "flowchart TD\n",
    "    A[User / Trigger] --> B[Workflow]\n",
    "    B --> C1[Step 1: Agent]\n",
    "    C1 --> C2[Step 2: Function]\n",
    "    C2 --> D{Condition?}\n",
    "    D -- Yes --> E1[Branch A: Team]\n",
    "    D -- No  --> E2[Branch B: Agent]\n",
    "    E1 --> F[Optional Loop / Router]\n",
    "    E2 --> F\n",
    "    F --> G[Output + Artifacts]\n",
    "```\n"
   ]
  },
  {
   "cell_type": "markdown",
   "id": "bcd8527b",
   "metadata": {},
   "source": [
    "\n",
    "## 2) Why use Workflows?\n",
    "\n",
    "| Need | What Workflows Provide |\n",
    "|---|---|\n",
    "| Deterministic execution | Fixed step order, typed inputs/outputs, repeatable runs |\n",
    "| Complex orchestration | Teams + Agents + Functions with branching, looping, parallelism |\n",
    "| Reliability & audit | Session state, retries, event logs, clear dataflow |\n",
    "\n",
    "**When to choose:** Use *Workflows* for **predictable pipelines**. Use *Teams* for **open-ended collaboration**.\n"
   ]
  },
  {
   "cell_type": "markdown",
   "id": "cac7398e",
   "metadata": {},
   "source": [
    "\n",
    "## 3) Building Blocks\n",
    "\n",
    "| Block | Purpose |\n",
    "|---|---|\n",
    "| **Workflow** | Top-level orchestrator |\n",
    "| **Step** | Single executor (Agent / Team / Function) |\n",
    "| **Parallel** | Run multiple steps concurrently |\n",
    "| **Condition** | Run steps only if predicate is true |\n",
    "| **Loop** | Repeat steps until a condition is met |\n",
    "| **Router** | Choose next step(s) dynamically |\n",
    "\n",
    "### Data flow for a Function Step\n",
    "```mermaid\n",
    "sequenceDiagram\n",
    "    participant WF as Workflow\n",
    "    participant S as Step (Function)\n",
    "    WF->>S: StepInput{ input, previous_step_content, images, additional_data, ... }\n",
    "    S-->>WF: StepOutput{ content, success, stop?, images?, metadata? }\n",
    "```\n"
   ]
  },
  {
   "cell_type": "markdown",
   "id": "695ee4c6",
   "metadata": {},
   "source": [
    "\n",
    "## 4) Small, mixed example (Agent + Function + Agent)\n",
    "\n",
    "> A tiny pipeline: research (team), custom preprocessor (function), planner (agent).  \n",
    "> Keep steps independent; return **StepOutput(content=...)** from functions.\n"
   ]
  },
  {
   "cell_type": "code",
   "execution_count": null,
   "id": "e9121c35",
   "metadata": {},
   "outputs": [],
   "source": [
    "\n",
    "# Minimal didactic example — snippets only (may not run without Agno installed)\n",
    "from agno.workflow import Step, Workflow, StepInput, StepOutput\n",
    "\n",
    "# Pretend: existing 'research_team' and 'content_agent' are defined elsewhere.\n",
    "\n",
    "def data_preprocessor(step_input: StepInput) -> StepOutput:\n",
    "    # Normalize / enrich the prior step's content\n",
    "    content = step_input.previous_step_content or \"\"\n",
    "    return StepOutput(content=f\"[Preprocessed]\\n{content[:500]}\")\n",
    "\n",
    "workflow = Workflow(\n",
    "    name=\"Mixed Execution Pipeline\",\n",
    "    steps=[\n",
    "        # Step(name=\"Research\", team=research_team),\n",
    "        Step(name=\"Preprocess\", executor=data_preprocessor),\n",
    "        # Step(name=\"Plan Content\", agent=content_agent),\n",
    "    ]\n",
    ")\n",
    "\n",
    "# workflow.print_response(\"Analyze the competitive landscape for fintech startups\", markdown=True)\n"
   ]
  },
  {
   "cell_type": "markdown",
   "id": "ee0fac0e",
   "metadata": {},
   "source": [
    "\n",
    "## 5) Running Workflows\n",
    "\n",
    "- **`run()`** returns a `WorkflowRunOutput` (non-streaming)  \n",
    "- **`print_response()`** prints nicely (helper around `run()`)\n",
    "- **`arun()`** is the async variant\n",
    "\n",
    "```python\n",
    "response = my_workflow.run(input=\"AI trends 2024\", markdown=True)\n",
    "# Async: await my_workflow.arun(input=\"AI trends 2024\")\n",
    "```\n"
   ]
  },
  {
   "cell_type": "markdown",
   "id": "e3d12acf",
   "metadata": {},
   "source": [
    "\n",
    "## 6) Streaming Responses & Events\n",
    "\n",
    "Set `stream=True` to get events as they happen. Use `stream_events=True` for **all** workflow events.\n",
    "\n",
    "```mermaid\n",
    "flowchart LR\n",
    "    S[Start] --> E1[WorkflowStarted]\n",
    "    E1 --> P[StepStarted -> Executor events -> StepCompleted]\n",
    "    P --> B{More Steps?}\n",
    "    B -- Yes --> P\n",
    "    B -- No --> E2[WorkflowCompleted]\n",
    "```\n"
   ]
  },
  {
   "cell_type": "markdown",
   "id": "737b375c",
   "metadata": {},
   "source": [
    "\n",
    "### Core Event Types (summary)\n",
    "\n",
    "| Category | Events |\n",
    "|---|---|\n",
    "| Core | `WorkflowStarted`, `WorkflowCompleted`, `WorkflowError` |\n",
    "| Step | `StepStarted`, `StepCompleted`, `StepError` |\n",
    "| Parallel | `ParallelExecutionStarted`, `ParallelExecutionCompleted` |\n",
    "| Condition | `ConditionExecutionStarted`, `ConditionExecutionCompleted` |\n",
    "| Loop | `LoopExecutionStarted`, `LoopIterationStartedEvent`, `LoopIterationCompletedEvent`, `LoopExecutionCompleted` |\n",
    "| Router | `RouterExecutionStarted`, `RouterExecutionCompleted` |\n",
    "| Functions | `StepOutput` (for custom function steps) |\n"
   ]
  },
  {
   "cell_type": "markdown",
   "id": "8955e206",
   "metadata": {},
   "source": [
    "\n",
    "## 7) Storing Events (observability)\n",
    "\n",
    "- `store_events=True` captures full history for debugging/audit.  \n",
    "- `events_to_skip=[...]` filters noisy events.\n",
    "\n",
    "```python\n",
    "debug_workflow = Workflow(name=\"Debug\", store_events=True, steps=[...])\n",
    "prod_workflow  = Workflow(name=\"Prod\", store_events=True, events_to_skip=[...], steps=[...])\n",
    "fast_workflow  = Workflow(name=\"Fast\", store_events=False, steps=[...])\n",
    "```\n"
   ]
  },
  {
   "cell_type": "markdown",
   "id": "1c44d272",
   "metadata": {},
   "source": [
    "\n",
    "## 8) Input & Output (structured, type-safe)\n",
    "\n",
    "### Accepted input forms\n",
    "| Type | Example | When to use |\n",
    "|---|---|---|\n",
    "| String | `\"Analyze AI trends\"` | Simple prompts |\n",
    "| Dict | `{\"query\": \"AI\", \"sources\": [\"web\"]}` | Key/value inputs |\n",
    "| List | `[\"AI\",\"ML\"]` | Batch-ish, short lists |\n",
    "| Pydantic | `ResearchRequest(topic=\"AI\", depth=5)` | Validated, type-safe API surfaces |\n",
    "\n",
    "> When forwarded to an Agent/Team, non-string input is serialized to text.\n"
   ]
  },
  {
   "cell_type": "code",
   "execution_count": null,
   "id": "dd5426e7",
   "metadata": {},
   "outputs": [],
   "source": [
    "\n",
    "# Pydantic input (schema validation)\n",
    "from pydantic import BaseModel, Field\n",
    "\n",
    "class ResearchRequest(BaseModel):\n",
    "    topic: str = Field(description=\"Research topic\")\n",
    "    depth: int = Field(description=\"Depth 1-10\")\n",
    "    sources: list[str] = Field(description=\"Preferred sources\")\n",
    "\n",
    "# workflow.print_response(message=ResearchRequest(topic=\"AI trends 2024\", depth=8, sources=[\"academic\",\"industry\"]))\n"
   ]
  },
  {
   "cell_type": "markdown",
   "id": "fa5b5030",
   "metadata": {},
   "source": [
    "\n",
    "### Step-level Structured IO\n",
    "\n",
    "Each agent can specify an `output_schema`. Function steps receive **typed** content from the previous step and should return `StepOutput(content=<typed model or string>)`.\n"
   ]
  },
  {
   "cell_type": "code",
   "execution_count": null,
   "id": "19f9b1d3",
   "metadata": {},
   "outputs": [],
   "source": [
    "\n",
    "# Example transformation in a custom function step\n",
    "def transform(step_input: StepInput) -> StepOutput:\n",
    "    prev = step_input.previous_step_content  # could be a Pydantic model\n",
    "    # ...inspect/modify...\n",
    "    return StepOutput(content=prev)  # or a new model / summarized text\n"
   ]
  },
  {
   "cell_type": "markdown",
   "id": "ff6fa109",
   "metadata": {},
   "source": [
    "\n",
    "## 9) Media Input & Processing\n",
    "\n",
    "Workflows can pass **images/videos/audio** between steps; artifacts accumulate in the final `WorkflowRunOutput`.\n",
    "\n",
    "```mermaid\n",
    "flowchart TD\n",
    "    A[Input: Text + Image] --> S1[Agent: Analyze Image]\n",
    "    S1 -->|content + derived artifacts| S2[Agent: Research Related News]\n",
    "    S2 --> Z[Final Output + All Artifacts]\n",
    "```\n"
   ]
  },
  {
   "cell_type": "markdown",
   "id": "6d85a67d",
   "metadata": {},
   "source": [
    "\n",
    "## 10) Additional Data & Metadata\n",
    "\n",
    "Use `additional_data` to pass **context/config** without polluting the message flow (e.g., user tier, SLA, priority). Access via `step_input.additional_data`.\n",
    "\n",
    "```python\n",
    "def planner(step_input: StepInput) -> StepOutput:\n",
    "    priority = (step_input.additional_data or {}).get(\"priority\",\"normal\")\n",
    "    # ...use alongside main input & previous_step_content...\n",
    "    return StepOutput(content=f\"Plan built. Priority={priority}\")\n",
    "```\n"
   ]
  },
  {
   "cell_type": "markdown",
   "id": "701a0e92",
   "metadata": {},
   "source": [
    "\n",
    "## 11) Access Multiple Previous Steps\n",
    "\n",
    "Retrieve any earlier content by **step name** or grab everything at once.\n",
    "\n",
    "```python\n",
    "def comprehensive_report(step_input: StepInput) -> StepOutput:\n",
    "    hn = step_input.get_step_content(\"research_hackernews\") or \"\"\n",
    "    web = step_input.get_step_content(\"research_web\") or \"\"\n",
    "    all_prev = step_input.get_all_previous_content()\n",
    "    return StepOutput(content=f\"# Report\\nHN: {hn[:300]}\\nWeb: {web[:300]}\")\n",
    "```\n"
   ]
  },
  {
   "cell_type": "markdown",
   "id": "73701526",
   "metadata": {},
   "source": [
    "\n",
    "### Visual: named lookups\n",
    "```mermaid\n",
    "flowchart LR\n",
    "    A[research_hackernews] --> C[comprehensive_report]\n",
    "    B[research_web] --> C\n",
    "    C --> D[final_reasoning]\n",
    "```\n"
   ]
  },
  {
   "cell_type": "markdown",
   "id": "6f22790a",
   "metadata": {},
   "source": [
    "\n",
    "## 12) Early Stopping\n",
    "\n",
    "Any step can halt execution by returning `StepOutput(stop=True)`.\n",
    "\n",
    "```mermaid\n",
    "flowchart TD\n",
    "    S1[Security Scan] --> S2[Security Gate]\n",
    "    S2 -->|Vulnerable| STOP(((Stop Workflow)))\n",
    "    S2 -->|Safe| S3[Deploy]\n",
    "    S3 --> S4[Post-Deploy Monitoring]\n",
    "```\n"
   ]
  },
  {
   "cell_type": "code",
   "execution_count": null,
   "id": "ef678fd4",
   "metadata": {},
   "outputs": [],
   "source": [
    "\n",
    "def security_gate(step_input: StepInput) -> StepOutput:\n",
    "    result = (step_input.previous_step_content or \"\").upper()\n",
    "    if \"VULNERABLE\" in result:\n",
    "        return StepOutput(content=\"Security alert. Blocked.\", stop=True)\n",
    "    return StepOutput(content=\"Secure. Proceed.\")\n"
   ]
  },
  {
   "cell_type": "markdown",
   "id": "c7d9165d",
   "metadata": {},
   "source": [
    "\n",
    "## 13) Workflow Cancellation\n",
    "\n",
    "- For **background** runs, keep the `run_id` and call `workflow.cancel_run(run_id)`.\n",
    "- Streaming cancellations emit `WorkflowCancelledEvent`.\n",
    "\n",
    "```mermaid\n",
    "sequenceDiagram\n",
    "    participant App\n",
    "    participant WF as Workflow\n",
    "    App->>WF: arun(input=..., background=True)\n",
    "    WF-->>App: run_id\n",
    "    App->>WF: cancel_run(run_id)\n",
    "    WF-->>App: cancelled=True\n",
    "```\n"
   ]
  },
  {
   "cell_type": "markdown",
   "id": "c51c70e2",
   "metadata": {},
   "source": [
    "\n",
    "## 14) Workflow Tools (call a Workflow from an Agent/Team)\n",
    "\n",
    "Give a workflow to an Agent via `WorkflowTools` so the agent can execute it as a tool.\n"
   ]
  },
  {
   "cell_type": "code",
   "execution_count": null,
   "id": "4c2a9dd8",
   "metadata": {},
   "outputs": [],
   "source": [
    "\n",
    "# from agno.tools.workflow import WorkflowTools\n",
    "# wf_tools = WorkflowTools(workflow=blog_post_workflow)\n",
    "# agent = Agent(model=OpenAIChat(id=\"gpt-5-mini\"), tools=[wf_tools])\n",
    "# agent.print_response(\"Create a blog post on 'AI trends 2024'\")\n"
   ]
  },
  {
   "cell_type": "markdown",
   "id": "cdcbd676",
   "metadata": {},
   "source": [
    "\n",
    "## 15) Background Execution (async)\n",
    "\n",
    "Run long jobs **non-blocking** with `await workflow.arun(..., background=True)` and poll with `get_run(run_id)`.\n",
    "\n",
    "```mermaid\n",
    "flowchart LR\n",
    "    A[Start Background] --> B[arun(background=True)]\n",
    "    B --> C[(run_id)]\n",
    "    C --> D[Poll get_run(run_id)]\n",
    "    D -->|Completed| E[Retrieve Final Output]\n",
    "```\n"
   ]
  },
  {
   "cell_type": "markdown",
   "id": "0b62698f",
   "metadata": {},
   "source": [
    "\n",
    "## 16) Production Checklist\n",
    "\n",
    "- [ ] Define explicit steps; keep each executor focused  \n",
    "- [ ] Prefer **typed** inputs/outputs for stability  \n",
    "- [ ] Capture events (`store_events=True`) in non-dev environments  \n",
    "- [ ] Add **Conditions**, **Loops**, **Routers** where logic demands  \n",
    "- [ ] Gate risky actions with **Early Stop** or pre-check steps  \n",
    "- [ ] For long runs, use **background execution** + cancellation  \n"
   ]
  },
  {
   "cell_type": "markdown",
   "id": "9d0c4bd5",
   "metadata": {},
   "source": [
    "\n",
    "---\n",
    "\n",
    "### TL;DR\n",
    "Workflows give you **deterministic**, **repeatable**, and **observable** automation for Agent/Team systems. Start linear, then add **parallel**, **conditional**, **loop**, and **routing** patterns as your pipeline matures.\n"
   ]
  }
 ],
 "metadata": {
  "language_info": {
   "name": "python"
  }
 },
 "nbformat": 4,
 "nbformat_minor": 5
}
